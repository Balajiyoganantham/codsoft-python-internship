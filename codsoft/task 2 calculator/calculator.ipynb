{
 "cells": [
  {
   "cell_type": "code",
   "execution_count": 1,
   "metadata": {},
   "outputs": [],
   "source": [
    "import tkinter as tk\n",
    "from tkinter import ttk\n",
    "\n",
    "class CalculatorApp:\n",
    "    def __init__(self, root):\n",
    "        self.root = root\n",
    "        self.root.title(\"Calculator\")\n",
    "\n",
    "        self.create_display()\n",
    "        self.create_buttons()\n",
    "\n",
    "        self.expression = \"\"\n",
    "\n",
    "    def create_display(self):\n",
    "        self.display_var = tk.StringVar()\n",
    "        display_frame = ttk.Frame(self.root)\n",
    "        display_frame.pack(pady=10)\n",
    "\n",
    "        self.display_entry = ttk.Entry(display_frame, textvariable=self.display_var, font=('Arial', 18), justify='right')\n",
    "        self.display_entry.pack(fill='x', padx=10, pady=5)\n",
    "\n",
    "    def create_buttons(self):\n",
    "        button_frame = ttk.Frame(self.root)\n",
    "        button_frame.pack()\n",
    "\n",
    "        buttons = [\n",
    "            ('7', 1, 0), ('8', 1, 1), ('9', 1, 2), ('/', 1, 3),\n",
    "            ('4', 2, 0), ('5', 2, 1), ('6', 2, 2), ('*', 2, 3),\n",
    "            ('1', 3, 0), ('2', 3, 1), ('3', 3, 2), ('-', 3, 3),\n",
    "            ('0', 4, 0), ('.', 4, 1), ('=', 4, 2), ('+', 4, 3)\n",
    "        ]\n",
    "\n",
    "        for (text, row, column) in buttons:\n",
    "            button = ttk.Button(button_frame, text=text, command=lambda t=text: self.on_button_click(t))\n",
    "            button.grid(row=row, column=column, padx=5, pady=5, sticky='nsew')\n",
    "            button.grid_columnconfigure(0, weight=1)\n",
    "\n",
    "    def on_button_click(self, value):\n",
    "        if value == \"=\":\n",
    "            try:\n",
    "                result = str(eval(self.expression))\n",
    "                self.expression = result\n",
    "            except:\n",
    "                result = \"Error\"\n",
    "            self.display_var.set(result)\n",
    "        else:\n",
    "            self.expression += value\n",
    "            self.display_var.set(self.expression)\n",
    "\n",
    "def main():\n",
    "    root = tk.Tk()\n",
    "    app = CalculatorApp(root)\n",
    "    root.mainloop()\n",
    "\n",
    "if __name__ == \"__main__\":\n",
    "    main()\n"
   ]
  }
 ],
 "metadata": {
  "kernelspec": {
   "display_name": "Python 3",
   "language": "python",
   "name": "python3"
  },
  "language_info": {
   "codemirror_mode": {
    "name": "ipython",
    "version": 3
   },
   "file_extension": ".py",
   "mimetype": "text/x-python",
   "name": "python",
   "nbconvert_exporter": "python",
   "pygments_lexer": "ipython3",
   "version": "3.11.9"
  }
 },
 "nbformat": 4,
 "nbformat_minor": 2
}
